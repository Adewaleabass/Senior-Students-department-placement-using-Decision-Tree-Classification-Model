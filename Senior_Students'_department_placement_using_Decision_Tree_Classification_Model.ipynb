{
  "cells": [
    {
      "cell_type": "markdown",
      "source": [
        "##Decision Tree Classification"
      ],
      "metadata": {
        "id": "FTD9xxSf2apk"
      }
    },
    {
      "cell_type": "markdown",
      "source": [
        "##Importing the Libraries"
      ],
      "metadata": {
        "id": "i42V3Kq_2thN"
      }
    },
    {
      "cell_type": "code",
      "source": [
        "import numpy as np\n",
        "import matplotlib.pyplot as plt\n",
        "import pandas as pd\n",
        "import seaborn as sns"
      ],
      "metadata": {
        "id": "5X0oQUnE2y0j"
      },
      "execution_count": 117,
      "outputs": []
    },
    {
      "cell_type": "markdown",
      "source": [
        "##Importing the Dataset"
      ],
      "metadata": {
        "id": "6d_y3RU_25Fb"
      }
    },
    {
      "cell_type": "code",
      "source": [
        "dataset = pd.read_csv('student_scores_science_commercial3.csv')\n",
        "print(dataset)"
      ],
      "metadata": {
        "id": "Ujo6AJWO29Yz",
        "colab": {
          "base_uri": "https://localhost:8080/"
        },
        "outputId": "5cda6b88-c7d8-4c75-eefc-b55194289a31"
      },
      "execution_count": 118,
      "outputs": [
        {
          "output_type": "stream",
          "name": "stdout",
          "text": [
            "     English  Maths  Basic_Science  Business_Studies  English_Literature  \\\n",
            "0         51     89             31                57                  72   \n",
            "1         92     13              8                85                  23   \n",
            "2         14     26             98                48                  63   \n",
            "3         71      8             18                51                  98   \n",
            "4         60     78             47                41                  48   \n",
            "..       ...    ...            ...               ...                 ...   \n",
            "145       46      0             57                88                  46   \n",
            "146       77     47             62                20                  48   \n",
            "147        2     11             61                35                  13   \n",
            "148        0     68             21                 9                  14   \n",
            "149        4     36             57               100                  30   \n",
            "\n",
            "     Department  \n",
            "0           NaN  \n",
            "1           NaN  \n",
            "2           NaN  \n",
            "3           NaN  \n",
            "4           NaN  \n",
            "..          ...  \n",
            "145         NaN  \n",
            "146         NaN  \n",
            "147         NaN  \n",
            "148         NaN  \n",
            "149         NaN  \n",
            "\n",
            "[150 rows x 6 columns]\n"
          ]
        }
      ]
    },
    {
      "cell_type": "code",
      "source": [
        "dataset['Average_Score'] = dataset[['English', 'Maths', 'Basic_Science']].mean(axis=1)\n",
        "print(dataset['Average_Score'])"
      ],
      "metadata": {
        "colab": {
          "base_uri": "https://localhost:8080/"
        },
        "id": "jUKv73IQKgsP",
        "outputId": "f8f59eac-0b1e-4678-9075-949f620c65e3"
      },
      "execution_count": 119,
      "outputs": [
        {
          "output_type": "stream",
          "name": "stdout",
          "text": [
            "0      57.000000\n",
            "1      37.666667\n",
            "2      46.000000\n",
            "3      32.333333\n",
            "4      61.666667\n",
            "         ...    \n",
            "145    34.333333\n",
            "146    62.000000\n",
            "147    24.666667\n",
            "148    29.666667\n",
            "149    32.333333\n",
            "Name: Average_Score, Length: 150, dtype: float64\n"
          ]
        }
      ]
    },
    {
      "cell_type": "code",
      "source": [
        "dataset['Department'] = dataset['Average_Score'].apply(lambda x: 'Science' if x >= 50 else 'Commercial')\n"
      ],
      "metadata": {
        "id": "ROgRDx0QLHT1"
      },
      "execution_count": 120,
      "outputs": []
    },
    {
      "cell_type": "markdown",
      "source": [
        "##Encoding the Categorical Data"
      ],
      "metadata": {
        "id": "mDA3PAmdJXAJ"
      }
    },
    {
      "cell_type": "code",
      "source": [
        "from sklearn.preprocessing import LabelEncoder\n",
        "label_encoder = LabelEncoder()\n",
        "dataset['Department_Code'] = label_encoder.fit_transform(dataset['Department'])"
      ],
      "metadata": {
        "id": "adg_itUlJdI4"
      },
      "execution_count": 121,
      "outputs": []
    },
    {
      "cell_type": "code",
      "source": [
        "print(dataset['Department_Code'])"
      ],
      "metadata": {
        "colab": {
          "base_uri": "https://localhost:8080/"
        },
        "id": "2H9tVjsNMNha",
        "outputId": "94565128-b7af-44ad-cf58-1ed2b992d276"
      },
      "execution_count": 122,
      "outputs": [
        {
          "output_type": "stream",
          "name": "stdout",
          "text": [
            "0      1\n",
            "1      0\n",
            "2      0\n",
            "3      0\n",
            "4      1\n",
            "      ..\n",
            "145    0\n",
            "146    1\n",
            "147    0\n",
            "148    0\n",
            "149    0\n",
            "Name: Department_Code, Length: 150, dtype: int64\n"
          ]
        }
      ]
    },
    {
      "cell_type": "markdown",
      "source": [
        "##Features and Dependent Variables"
      ],
      "metadata": {
        "id": "QBk3Yzg6NSs2"
      }
    },
    {
      "cell_type": "code",
      "source": [
        "X = dataset[['Average_Score']]\n",
        "y = dataset['Department_Code']"
      ],
      "metadata": {
        "id": "-xyslqHoNYcm"
      },
      "execution_count": 123,
      "outputs": []
    },
    {
      "cell_type": "code",
      "source": [
        "print(X)"
      ],
      "metadata": {
        "colab": {
          "base_uri": "https://localhost:8080/"
        },
        "id": "1PKwhExINf9W",
        "outputId": "b4f73402-550c-4581-f33a-d6652b3735fc"
      },
      "execution_count": 124,
      "outputs": [
        {
          "output_type": "stream",
          "name": "stdout",
          "text": [
            "     Average_Score\n",
            "0        57.000000\n",
            "1        37.666667\n",
            "2        46.000000\n",
            "3        32.333333\n",
            "4        61.666667\n",
            "..             ...\n",
            "145      34.333333\n",
            "146      62.000000\n",
            "147      24.666667\n",
            "148      29.666667\n",
            "149      32.333333\n",
            "\n",
            "[150 rows x 1 columns]\n"
          ]
        }
      ]
    },
    {
      "cell_type": "code",
      "source": [
        "print(y)"
      ],
      "metadata": {
        "colab": {
          "base_uri": "https://localhost:8080/"
        },
        "id": "LbBYSXa9Nh9s",
        "outputId": "3cc18ebe-8a60-4f96-8608-77497223e748"
      },
      "execution_count": 125,
      "outputs": [
        {
          "output_type": "stream",
          "name": "stdout",
          "text": [
            "0      1\n",
            "1      0\n",
            "2      0\n",
            "3      0\n",
            "4      1\n",
            "      ..\n",
            "145    0\n",
            "146    1\n",
            "147    0\n",
            "148    0\n",
            "149    0\n",
            "Name: Department_Code, Length: 150, dtype: int64\n"
          ]
        }
      ]
    },
    {
      "cell_type": "markdown",
      "source": [
        "##Splitting the Dataset to Training Set and Test Set"
      ],
      "metadata": {
        "id": "DDpvjTrtB_jL"
      }
    },
    {
      "cell_type": "code",
      "source": [
        "from sklearn.model_selection import train_test_split\n",
        "X_train, X_test, y_train, y_test = train_test_split(X, y, test_size = 0.25, random_state = 0)"
      ],
      "metadata": {
        "id": "udv6fn66CFsh"
      },
      "execution_count": 126,
      "outputs": []
    },
    {
      "cell_type": "markdown",
      "source": [
        "## Training the Decision Tree model on the Training set"
      ],
      "metadata": {
        "id": "gNwG27Pa3W6G"
      }
    },
    {
      "cell_type": "code",
      "source": [
        "from sklearn.tree import DecisionTreeClassifier\n",
        "classifier = DecisionTreeClassifier(criterion = 'entropy', random_state = 0)\n",
        "classifier.fit(X_train, y_train)"
      ],
      "metadata": {
        "id": "R44dWvg33Ydi",
        "outputId": "6779d95f-0865-44a6-aa3a-b52803d1332c",
        "colab": {
          "base_uri": "https://localhost:8080/",
          "height": 75
        }
      },
      "execution_count": 127,
      "outputs": [
        {
          "output_type": "execute_result",
          "data": {
            "text/plain": [
              "DecisionTreeClassifier(criterion='entropy', random_state=0)"
            ],
            "text/html": [
              "<style>#sk-container-id-5 {color: black;background-color: white;}#sk-container-id-5 pre{padding: 0;}#sk-container-id-5 div.sk-toggleable {background-color: white;}#sk-container-id-5 label.sk-toggleable__label {cursor: pointer;display: block;width: 100%;margin-bottom: 0;padding: 0.3em;box-sizing: border-box;text-align: center;}#sk-container-id-5 label.sk-toggleable__label-arrow:before {content: \"▸\";float: left;margin-right: 0.25em;color: #696969;}#sk-container-id-5 label.sk-toggleable__label-arrow:hover:before {color: black;}#sk-container-id-5 div.sk-estimator:hover label.sk-toggleable__label-arrow:before {color: black;}#sk-container-id-5 div.sk-toggleable__content {max-height: 0;max-width: 0;overflow: hidden;text-align: left;background-color: #f0f8ff;}#sk-container-id-5 div.sk-toggleable__content pre {margin: 0.2em;color: black;border-radius: 0.25em;background-color: #f0f8ff;}#sk-container-id-5 input.sk-toggleable__control:checked~div.sk-toggleable__content {max-height: 200px;max-width: 100%;overflow: auto;}#sk-container-id-5 input.sk-toggleable__control:checked~label.sk-toggleable__label-arrow:before {content: \"▾\";}#sk-container-id-5 div.sk-estimator input.sk-toggleable__control:checked~label.sk-toggleable__label {background-color: #d4ebff;}#sk-container-id-5 div.sk-label input.sk-toggleable__control:checked~label.sk-toggleable__label {background-color: #d4ebff;}#sk-container-id-5 input.sk-hidden--visually {border: 0;clip: rect(1px 1px 1px 1px);clip: rect(1px, 1px, 1px, 1px);height: 1px;margin: -1px;overflow: hidden;padding: 0;position: absolute;width: 1px;}#sk-container-id-5 div.sk-estimator {font-family: monospace;background-color: #f0f8ff;border: 1px dotted black;border-radius: 0.25em;box-sizing: border-box;margin-bottom: 0.5em;}#sk-container-id-5 div.sk-estimator:hover {background-color: #d4ebff;}#sk-container-id-5 div.sk-parallel-item::after {content: \"\";width: 100%;border-bottom: 1px solid gray;flex-grow: 1;}#sk-container-id-5 div.sk-label:hover label.sk-toggleable__label {background-color: #d4ebff;}#sk-container-id-5 div.sk-serial::before {content: \"\";position: absolute;border-left: 1px solid gray;box-sizing: border-box;top: 0;bottom: 0;left: 50%;z-index: 0;}#sk-container-id-5 div.sk-serial {display: flex;flex-direction: column;align-items: center;background-color: white;padding-right: 0.2em;padding-left: 0.2em;position: relative;}#sk-container-id-5 div.sk-item {position: relative;z-index: 1;}#sk-container-id-5 div.sk-parallel {display: flex;align-items: stretch;justify-content: center;background-color: white;position: relative;}#sk-container-id-5 div.sk-item::before, #sk-container-id-5 div.sk-parallel-item::before {content: \"\";position: absolute;border-left: 1px solid gray;box-sizing: border-box;top: 0;bottom: 0;left: 50%;z-index: -1;}#sk-container-id-5 div.sk-parallel-item {display: flex;flex-direction: column;z-index: 1;position: relative;background-color: white;}#sk-container-id-5 div.sk-parallel-item:first-child::after {align-self: flex-end;width: 50%;}#sk-container-id-5 div.sk-parallel-item:last-child::after {align-self: flex-start;width: 50%;}#sk-container-id-5 div.sk-parallel-item:only-child::after {width: 0;}#sk-container-id-5 div.sk-dashed-wrapped {border: 1px dashed gray;margin: 0 0.4em 0.5em 0.4em;box-sizing: border-box;padding-bottom: 0.4em;background-color: white;}#sk-container-id-5 div.sk-label label {font-family: monospace;font-weight: bold;display: inline-block;line-height: 1.2em;}#sk-container-id-5 div.sk-label-container {text-align: center;}#sk-container-id-5 div.sk-container {/* jupyter's `normalize.less` sets `[hidden] { display: none; }` but bootstrap.min.css set `[hidden] { display: none !important; }` so we also need the `!important` here to be able to override the default hidden behavior on the sphinx rendered scikit-learn.org. See: https://github.com/scikit-learn/scikit-learn/issues/21755 */display: inline-block !important;position: relative;}#sk-container-id-5 div.sk-text-repr-fallback {display: none;}</style><div id=\"sk-container-id-5\" class=\"sk-top-container\"><div class=\"sk-text-repr-fallback\"><pre>DecisionTreeClassifier(criterion=&#x27;entropy&#x27;, random_state=0)</pre><b>In a Jupyter environment, please rerun this cell to show the HTML representation or trust the notebook. <br />On GitHub, the HTML representation is unable to render, please try loading this page with nbviewer.org.</b></div><div class=\"sk-container\" hidden><div class=\"sk-item\"><div class=\"sk-estimator sk-toggleable\"><input class=\"sk-toggleable__control sk-hidden--visually\" id=\"sk-estimator-id-5\" type=\"checkbox\" checked><label for=\"sk-estimator-id-5\" class=\"sk-toggleable__label sk-toggleable__label-arrow\">DecisionTreeClassifier</label><div class=\"sk-toggleable__content\"><pre>DecisionTreeClassifier(criterion=&#x27;entropy&#x27;, random_state=0)</pre></div></div></div></div></div>"
            ]
          },
          "metadata": {},
          "execution_count": 127
        }
      ]
    },
    {
      "cell_type": "markdown",
      "source": [
        "##Predicting a new results"
      ],
      "metadata": {
        "id": "TGfQvO2v5pQ1"
      }
    },
    {
      "cell_type": "code",
      "source": [
        "predictions = classifier.predict(X_test)"
      ],
      "metadata": {
        "id": "GHWJCxVeZomh"
      },
      "execution_count": 128,
      "outputs": []
    },
    {
      "cell_type": "code",
      "source": [
        "print(classifier.predict([[34.333333]]))\n"
      ],
      "metadata": {
        "colab": {
          "base_uri": "https://localhost:8080/"
        },
        "id": "mQgHuSQhX0N6",
        "outputId": "91a3369e-7ed5-4afd-cfda-a94c51297fb4"
      },
      "execution_count": 129,
      "outputs": [
        {
          "output_type": "stream",
          "name": "stdout",
          "text": [
            "[0]\n"
          ]
        },
        {
          "output_type": "stream",
          "name": "stderr",
          "text": [
            "/usr/local/lib/python3.10/dist-packages/sklearn/base.py:439: UserWarning: X does not have valid feature names, but DecisionTreeClassifier was fitted with feature names\n",
            "  warnings.warn(\n"
          ]
        }
      ]
    },
    {
      "cell_type": "markdown",
      "source": [
        "##Prediciting the Test Results"
      ],
      "metadata": {
        "id": "wB73-PmUH34T"
      }
    },
    {
      "cell_type": "code",
      "source": [
        "comparison_dataset = pd.DataFrame({'Actual': y_test, 'Predicted': y_pred})"
      ],
      "metadata": {
        "id": "d8x_u1u3H_Lh"
      },
      "execution_count": 130,
      "outputs": []
    },
    {
      "cell_type": "code",
      "source": [
        "print(comparison_dataset)"
      ],
      "metadata": {
        "colab": {
          "base_uri": "https://localhost:8080/"
        },
        "id": "OHQtYGupgGR9",
        "outputId": "13fa546d-b642-4c5b-d502-a85d11286f98"
      },
      "execution_count": 131,
      "outputs": [
        {
          "output_type": "stream",
          "name": "stdout",
          "text": [
            "     Actual  Predicted\n",
            "114       0          0\n",
            "62        1          1\n",
            "33        0          0\n",
            "107       0          0\n",
            "7         0          0\n",
            "100       0          0\n",
            "40        1          1\n",
            "86        1          1\n",
            "76        0          0\n",
            "71        0          0\n",
            "134       1          1\n",
            "51        0          0\n",
            "73        0          0\n",
            "54        0          0\n",
            "63        1          1\n",
            "37        1          1\n",
            "78        0          0\n",
            "90        1          1\n",
            "45        1          1\n",
            "16        1          1\n",
            "121       0          0\n",
            "66        0          0\n",
            "24        1          1\n",
            "8         1          1\n",
            "126       0          0\n",
            "22        0          0\n",
            "44        1          1\n",
            "97        1          1\n",
            "93        0          0\n",
            "26        1          1\n",
            "137       1          1\n",
            "84        1          1\n",
            "27        0          0\n",
            "127       1          1\n",
            "132       0          0\n",
            "59        0          0\n",
            "18        0          0\n",
            "83        1          1\n"
          ]
        }
      ]
    },
    {
      "cell_type": "markdown",
      "source": [
        "##Making the Confusion Matrix"
      ],
      "metadata": {
        "id": "ehu1A_B2IQnL"
      }
    },
    {
      "cell_type": "code",
      "source": [
        "from sklearn.metrics import confusion_matrix, accuracy_score\n",
        "cm = confusion_matrix(y_test, y_pred)\n",
        "print(cm)\n",
        "accuracy_score(y_test, y_pred)"
      ],
      "metadata": {
        "colab": {
          "base_uri": "https://localhost:8080/"
        },
        "id": "g5-hHY3zIUps",
        "outputId": "63d0fb59-acff-40f0-ba24-fcd5c0a60719"
      },
      "execution_count": 132,
      "outputs": [
        {
          "output_type": "stream",
          "name": "stdout",
          "text": [
            "[[20  0]\n",
            " [ 0 18]]\n"
          ]
        },
        {
          "output_type": "execute_result",
          "data": {
            "text/plain": [
              "1.0"
            ]
          },
          "metadata": {},
          "execution_count": 132
        }
      ]
    },
    {
      "cell_type": "markdown",
      "source": [
        "## Visualising the Training Results"
      ],
      "metadata": {
        "id": "ptq4rXy05-Tb"
      }
    },
    {
      "cell_type": "code",
      "source": [
        "plt.figure(figsize=(14, 6))\n",
        "\n",
        "# Training set visualization\n",
        "plt.subplot(1, 2, 1)\n",
        "sns.scatterplot(x=X_train['Average_Score'], y=y_train, hue=label_encoder.inverse_transform(y_train), palette='viridis')\n",
        "plt.title('Training Set')\n",
        "plt.xlabel('Average Score')\n",
        "plt.ylabel('Department Code')\n",
        "\n",
        "plt.tight_layout()\n",
        "plt.show()"
      ],
      "metadata": {
        "id": "ZwJRXJpn6JX7",
        "outputId": "cf27628e-8df6-4846-9e11-88c6b8eef661",
        "colab": {
          "base_uri": "https://localhost:8080/",
          "height": 607
        }
      },
      "execution_count": 133,
      "outputs": [
        {
          "output_type": "display_data",
          "data": {
            "text/plain": [
              "<Figure size 1400x600 with 1 Axes>"
            ],
            "image/png": "[encoded data removed]"
          },
          "metadata": {}
        }
      ]
    },
    {
      "cell_type": "markdown",
      "source": [
        "##Visualising the Test Results"
      ],
      "metadata": {
        "id": "EQd-HDddI5Hc"
      }
    },
    {
      "cell_type": "code",
      "source": [
        "plt.subplot(1, 2, 2)\n",
        "sns.scatterplot(x=X_test['Average_Score'], y=y_test, hue=label_encoder.inverse_transform(y_test), palette='viridis')\n",
        "plt.title('Test Set')\n",
        "plt.xlabel('Average Score')\n",
        "plt.ylabel('Department Code')\n",
        "\n",
        "plt.tight_layout()\n",
        "plt.show()"
      ],
      "metadata": {
        "colab": {
          "base_uri": "https://localhost:8080/",
          "height": 487
        },
        "id": "S03n1dA4I95A",
        "outputId": "02229720-3f84-4d06-8aa4-05483892cf56"
      },
      "execution_count": 134,
      "outputs": [
        {
          "output_type": "display_data",
          "data": {
            "text/plain": [
              "<Figure size 640x480 with 1 Axes>"
            ],
            "image/png": "[encoded data removed]"
          },
          "metadata": {}
        }
      ]
    }
  ],
  "metadata": {
    "colab": {
      "provenance": []
    },
    "kernelspec": {
      "display_name": "Python 3",
      "name": "python3"
    }
  },
  "nbformat": 4,
  "nbformat_minor": 0
}